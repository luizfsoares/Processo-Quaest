{
 "cells": [
  {
   "cell_type": "code",
   "execution_count": 106,
   "id": "silent-amsterdam",
   "metadata": {},
   "outputs": [],
   "source": [
    "#Importação de bibliotecas utilizadas\n",
    "\n",
    "import pandas as pd\n",
    "import matplotlib.pyplot as plt\n",
    "import seaborn as sns"
   ]
  },
  {
   "cell_type": "code",
   "execution_count": 3,
   "id": "announced-effects",
   "metadata": {},
   "outputs": [
    {
     "data": {
      "text/html": [
       "<div>\n",
       "<style scoped>\n",
       "    .dataframe tbody tr th:only-of-type {\n",
       "        vertical-align: middle;\n",
       "    }\n",
       "\n",
       "    .dataframe tbody tr th {\n",
       "        vertical-align: top;\n",
       "    }\n",
       "\n",
       "    .dataframe thead th {\n",
       "        text-align: right;\n",
       "    }\n",
       "</style>\n",
       "<table border=\"1\" class=\"dataframe\">\n",
       "  <thead>\n",
       "    <tr style=\"text-align: right;\">\n",
       "      <th></th>\n",
       "      <th>sbjnum</th>\n",
       "      <th>sexo</th>\n",
       "      <th>idade</th>\n",
       "      <th>rendaf</th>\n",
       "      <th>esc</th>\n",
       "      <th>aval_gov</th>\n",
       "      <th>voto1</th>\n",
       "    </tr>\n",
       "  </thead>\n",
       "  <tbody>\n",
       "    <tr>\n",
       "      <th>0</th>\n",
       "      <td>136037235</td>\n",
       "      <td>Masculino</td>\n",
       "      <td>57</td>\n",
       "      <td>De R$ 2.091,00 a R$ 3.135,00 (+ de 2SM até 3 SM)</td>\n",
       "      <td>Ensino médio completo</td>\n",
       "      <td>Regular positiva</td>\n",
       "      <td>Candidato 2</td>\n",
       "    </tr>\n",
       "    <tr>\n",
       "      <th>1</th>\n",
       "      <td>136037575</td>\n",
       "      <td>Masculino</td>\n",
       "      <td>32</td>\n",
       "      <td>De R$ 2.091,00 a R$ 3.135,00 (+ de 2SM até 3 SM)</td>\n",
       "      <td>Ensino médio completo</td>\n",
       "      <td>Boa</td>\n",
       "      <td>Ninguém/Branco/Nulo</td>\n",
       "    </tr>\n",
       "    <tr>\n",
       "      <th>2</th>\n",
       "      <td>136038074</td>\n",
       "      <td>Masculino</td>\n",
       "      <td>70</td>\n",
       "      <td>De R$ 5.226,00 a R$ 10.450,00 (+ de 5SM até 10...</td>\n",
       "      <td>Ensino médio completo</td>\n",
       "      <td>Boa</td>\n",
       "      <td>Candidato 2</td>\n",
       "    </tr>\n",
       "    <tr>\n",
       "      <th>3</th>\n",
       "      <td>136041069</td>\n",
       "      <td>Masculino</td>\n",
       "      <td>50</td>\n",
       "      <td>De R$ 2.091,00 a R$ 3.135,00 (+ de 2SM até 3 SM)</td>\n",
       "      <td>Ensino fundamental incompleto</td>\n",
       "      <td>Ótima</td>\n",
       "      <td>Candidato 2</td>\n",
       "    </tr>\n",
       "    <tr>\n",
       "      <th>4</th>\n",
       "      <td>136041107</td>\n",
       "      <td>Masculino</td>\n",
       "      <td>24</td>\n",
       "      <td>De R$ 3.136,00 a R$ 5.225,00 (+ de 3SM até 5 SM)</td>\n",
       "      <td>Ensino superior incompleto</td>\n",
       "      <td>Boa</td>\n",
       "      <td>Candidato 2</td>\n",
       "    </tr>\n",
       "    <tr>\n",
       "      <th>...</th>\n",
       "      <td>...</td>\n",
       "      <td>...</td>\n",
       "      <td>...</td>\n",
       "      <td>...</td>\n",
       "      <td>...</td>\n",
       "      <td>...</td>\n",
       "      <td>...</td>\n",
       "    </tr>\n",
       "    <tr>\n",
       "      <th>995</th>\n",
       "      <td>136140712</td>\n",
       "      <td>Feminino</td>\n",
       "      <td>20</td>\n",
       "      <td>De R$ 5.226,00 a R$ 10.450,00 (+ de 5SM até 10...</td>\n",
       "      <td>Ensino médio completo</td>\n",
       "      <td>Boa</td>\n",
       "      <td>Candidato 2</td>\n",
       "    </tr>\n",
       "    <tr>\n",
       "      <th>996</th>\n",
       "      <td>136140811</td>\n",
       "      <td>Feminino</td>\n",
       "      <td>18</td>\n",
       "      <td>De R$ 2.091,00 a R$ 3.135,00 (+ de 2SM até 3 SM)</td>\n",
       "      <td>Ensino médio incompleto</td>\n",
       "      <td>Ótima</td>\n",
       "      <td>Candidato 14</td>\n",
       "    </tr>\n",
       "    <tr>\n",
       "      <th>997</th>\n",
       "      <td>136140955</td>\n",
       "      <td>Feminino</td>\n",
       "      <td>22</td>\n",
       "      <td>De R$ 2.091,00 a R$ 3.135,00 (+ de 2SM até 3 SM)</td>\n",
       "      <td>Ensino médio completo</td>\n",
       "      <td>Regular positiva</td>\n",
       "      <td>Ninguém/Branco/Nulo</td>\n",
       "    </tr>\n",
       "    <tr>\n",
       "      <th>998</th>\n",
       "      <td>136141043</td>\n",
       "      <td>Feminino</td>\n",
       "      <td>45</td>\n",
       "      <td>De R$ 2.091,00 a R$ 3.135,00 (+ de 2SM até 3 SM)</td>\n",
       "      <td>Ensino superior incompleto</td>\n",
       "      <td>Ótima</td>\n",
       "      <td>Candidato 2</td>\n",
       "    </tr>\n",
       "    <tr>\n",
       "      <th>999</th>\n",
       "      <td>136141106</td>\n",
       "      <td>Feminino</td>\n",
       "      <td>18</td>\n",
       "      <td>De R$ 2.091,00 a R$ 3.135,00 (+ de 2SM até 3 SM)</td>\n",
       "      <td>Ensino médio completo</td>\n",
       "      <td>Regular negativa</td>\n",
       "      <td>NS/NR</td>\n",
       "    </tr>\n",
       "  </tbody>\n",
       "</table>\n",
       "<p>1000 rows × 7 columns</p>\n",
       "</div>"
      ],
      "text/plain": [
       "        sbjnum       sexo  idade  \\\n",
       "0    136037235  Masculino     57   \n",
       "1    136037575  Masculino     32   \n",
       "2    136038074  Masculino     70   \n",
       "3    136041069  Masculino     50   \n",
       "4    136041107  Masculino     24   \n",
       "..         ...        ...    ...   \n",
       "995  136140712   Feminino     20   \n",
       "996  136140811   Feminino     18   \n",
       "997  136140955   Feminino     22   \n",
       "998  136141043   Feminino     45   \n",
       "999  136141106   Feminino     18   \n",
       "\n",
       "                                                rendaf  \\\n",
       "0     De R$ 2.091,00 a R$ 3.135,00 (+ de 2SM até 3 SM)   \n",
       "1     De R$ 2.091,00 a R$ 3.135,00 (+ de 2SM até 3 SM)   \n",
       "2    De R$ 5.226,00 a R$ 10.450,00 (+ de 5SM até 10...   \n",
       "3     De R$ 2.091,00 a R$ 3.135,00 (+ de 2SM até 3 SM)   \n",
       "4     De R$ 3.136,00 a R$ 5.225,00 (+ de 3SM até 5 SM)   \n",
       "..                                                 ...   \n",
       "995  De R$ 5.226,00 a R$ 10.450,00 (+ de 5SM até 10...   \n",
       "996   De R$ 2.091,00 a R$ 3.135,00 (+ de 2SM até 3 SM)   \n",
       "997   De R$ 2.091,00 a R$ 3.135,00 (+ de 2SM até 3 SM)   \n",
       "998   De R$ 2.091,00 a R$ 3.135,00 (+ de 2SM até 3 SM)   \n",
       "999   De R$ 2.091,00 a R$ 3.135,00 (+ de 2SM até 3 SM)   \n",
       "\n",
       "                               esc          aval_gov                voto1  \n",
       "0            Ensino médio completo  Regular positiva          Candidato 2  \n",
       "1            Ensino médio completo               Boa  Ninguém/Branco/Nulo  \n",
       "2            Ensino médio completo               Boa          Candidato 2  \n",
       "3    Ensino fundamental incompleto             Ótima          Candidato 2  \n",
       "4       Ensino superior incompleto               Boa          Candidato 2  \n",
       "..                             ...               ...                  ...  \n",
       "995          Ensino médio completo               Boa          Candidato 2  \n",
       "996        Ensino médio incompleto             Ótima         Candidato 14  \n",
       "997          Ensino médio completo  Regular positiva  Ninguém/Branco/Nulo  \n",
       "998     Ensino superior incompleto             Ótima          Candidato 2  \n",
       "999          Ensino médio completo  Regular negativa                NS/NR  \n",
       "\n",
       "[1000 rows x 7 columns]"
      ]
     },
     "execution_count": 3,
     "metadata": {},
     "output_type": "execute_result"
    }
   ],
   "source": [
    "#Abertura da base de dados com a extensão .xlsx\n",
    "\n",
    "data = pd.read_excel('data/bd_surveyquaest.xlsx')\n",
    "data"
   ]
  },
  {
   "cell_type": "code",
   "execution_count": 4,
   "id": "loved-platinum",
   "metadata": {},
   "outputs": [],
   "source": [
    "#descrição das colunas da base de dados\n",
    "\n",
    "\n",
    "#sbjnum: id do respondente\n",
    "#sexo: sexo do respondente\n",
    "#idade: idade (numérica) do respondente\n",
    "#rendaf: renda familiar do respondente\n",
    "#esc: escolaridade do respondente\n",
    "#aval_gov: avaliação do governo\n",
    "#voto1: intenção de voto do respondente."
   ]
  },
  {
   "cell_type": "markdown",
   "id": "angry-founder",
   "metadata": {},
   "source": [
    "# Primeira Questão - Qual o % de intenção de voto para cada candidato?\n",
    "\n",
    "### Resposta: \n",
    "\n",
    "##### Utilizando o data['voto1'].value_counts() é possível ver os valores únicos que este atributo pode assumir e suas respectivas quantidades.\n",
    "##### É possível ver a existência de 14 candidatos e dividindo suas respectivas intenções pela quantidade total de registros, temos:\n",
    "##### Candidato 1 = 42/ 1000 = 0,042% = 4.2%\n",
    "##### Candidato 2 = 523/ 1000 = 0,523% = 52.3%\n",
    "##### Candidato 3 = 16/ 1000 = 0,016% = 1.6%\n",
    "##### Candidato 4 = 12/ 1000 = 0,012% = 1.2%\n",
    "##### Candidato 5 = 25/ 1000 = 0,025% = 2.5%\n",
    "##### Candidato 6 = 10/ 1000 = 0,010% =  1.0%\n",
    "##### Candidato 7 = 7/ 1000 = 0,007% = 0.7%\n",
    "##### Candidato 8 = 26/ 1000 = 0,026% = 2.6%\n",
    "##### Candidato 9 = 19/ 1000 = 0,019% = 1.9%\n",
    "##### Candidato 10 = 20/ 1000 = 0,020% = 2.0%\n",
    "##### Candidato 11 = 3/ 1000 = 0,003% = 0.3%\n",
    "##### Candidato 12 = 6/ 1000 = 0,006% = 0.6%\n",
    "##### Candidato 13 = 3/ 1000 = 0,003% = 0.3%\n",
    "##### Candidato 14 = 6/ 1000 = 0,006% = 0.6%"
   ]
  },
  {
   "cell_type": "code",
   "execution_count": 5,
   "id": "breathing-round",
   "metadata": {},
   "outputs": [
    {
     "data": {
      "text/plain": [
       "Candidato 2            523\n",
       "Ninguém/Branco/Nulo    142\n",
       "NS/NR                  140\n",
       "Candidato 1             42\n",
       "Candidato 8             26\n",
       "Candidato 5             25\n",
       "Candidato 10            20\n",
       "Candidato 9             19\n",
       "Candidato 3             16\n",
       "Candidato 4             12\n",
       "Candidato 6             10\n",
       "Candidato 7              7\n",
       "Candidato 12             6\n",
       "Candidato 14             6\n",
       "Candidato 13             3\n",
       "Candidato 11             3\n",
       "Name: voto1, dtype: int64"
      ]
     },
     "execution_count": 5,
     "metadata": {},
     "output_type": "execute_result"
    }
   ],
   "source": [
    "#A coluna correspondente a intenção de voto é data['voto1']\n",
    "#Praticamente mais de 50% dos eleitores possuem a intenção de votar no Candidato 2.\n",
    "#71.8% das pessoas que responderam o survey possuem intenção de voto em algum dos candidatos\n",
    "\n",
    "\n",
    "data['voto1'].value_counts()"
   ]
  },
  {
   "cell_type": "code",
   "execution_count": 32,
   "id": "fossil-affect",
   "metadata": {},
   "outputs": [],
   "source": [
    "#Pegando os índices que não correspondem a intenção de voto em nenhum dos candidatos para poder excluir e sobrar\n",
    "#apenas as intenções em candidatos e assim criar um gráfico entre eles\n",
    "\n",
    "indexNames = data[(data['voto1'] == 'NS/NR') | (data['voto1'] == 'Ninguém/Branco/Nulo')].index\n",
    "\n",
    "#exclusão\n",
    "\n",
    "data1 = data.drop(indexNames, axis=0)"
   ]
  },
  {
   "cell_type": "markdown",
   "id": "attached-arthur",
   "metadata": {},
   "source": [
    "#### Neste próximo gráfico, com dimensão em porcentagem, fica extremamente a diferença de votos entre o Candidato 2 e os demais"
   ]
  },
  {
   "cell_type": "code",
   "execution_count": 118,
   "id": "miniature-flood",
   "metadata": {},
   "outputs": [
    {
     "data": {
      "image/png": "[encoded data removed]",
      "text/plain": [
       "<Figure size 864x576 with 1 Axes>"
      ]
     },
     "metadata": {},
     "output_type": "display_data"
    }
   ],
   "source": [
    "sns.set(style=\"darkgrid\")\n",
    "fig, ax = plt.subplots(figsize =(12, 8))\n",
    "g = sns.barplot(x=[\"Candidato 1\", \"Candidato 2\", \"Candidato 3\", \"Candidato 4\", \"Candidato 5\", \n",
    "                   \"Candidato 6\", \"Candidato 7\", \"Candidato 8\", \"Candidato 9\", \"Candidato 10\", \n",
    "                   \"Candidato 11\", \"Candidato 12\",\"Candidato 13\",\"Candidato 14\"],\n",
    "                y=[(42/1000), (523/1000), (16/1000), (12/1000), (25/1000), \n",
    "                   (10/1000), (7/1000), (26/1000), (19/1000), (20/1000),\n",
    "                   (3/1000), (6/1000), (3/1000), (6/1000)])\n",
    "\n",
    "g.set_xticklabels(labels=[\"Cand 1\", \"Cand 2\", \"Cand 3\", \"Cand 4\", \"Cand 5\", \n",
    "                          \"Cand 6\", \"Cand 7\", \"Cand 8\", \"Cand 9\", \"Cand 10\", \n",
    "                          \"Cand 11\", \"Cand 12\",\"Cand 13\",\"Cand 14\"], rotation=45)\n",
    "ax.set_yticks((0.01, 0.05, 0.1,0.15,0.2,0.25,0.3,0.35,0.4,0.45,0.5))\n",
    "ax.set_title(\"Distribuição da % de Intenção de Voto\")\n",
    "# Show the plot\n",
    "plt.show()"
   ]
  },
  {
   "cell_type": "markdown",
   "id": "adopted-architect",
   "metadata": {},
   "source": [
    "# Questão 2 - Qual o candidato com maior % de intenção de voto entre as MULHERES?\n",
    "\n",
    "### Resposta:\n",
    "\n",
    "##### O Candidato 2 possui a maior porcentagem de intenção de votos entre as mulheres, o que corresponde a mais de 54% da intenção dos votos delas"
   ]
  },
  {
   "cell_type": "code",
   "execution_count": 6,
   "id": "expected-movie",
   "metadata": {},
   "outputs": [
    {
     "data": {
      "text/plain": [
       "Feminino     545\n",
       "Masculino    455\n",
       "Name: sexo, dtype: int64"
      ]
     },
     "execution_count": 6,
     "metadata": {},
     "output_type": "execute_result"
    }
   ],
   "source": [
    "#Valores únicos e sua contagem. Sabendo esses valores, é possível criar um gráfico de pizza para visualizar melhor\n",
    "\n",
    "data['sexo'].value_counts()"
   ]
  },
  {
   "cell_type": "markdown",
   "id": "comic-peace",
   "metadata": {},
   "source": [
    "### Gráfico 1: Distribuição de Gêneros"
   ]
  },
  {
   "cell_type": "code",
   "execution_count": 76,
   "id": "established-photograph",
   "metadata": {},
   "outputs": [
    {
     "data": {
      "image/png": "[encoded data removed]",
      "text/plain": [
       "<Figure size 720x504 with 1 Axes>"
      ]
     },
     "metadata": {},
     "output_type": "display_data"
    }
   ],
   "source": [
    "#Gráfico de Pizza com distribuição do Sexo\n",
    "\n",
    "# Dados obtidos anteriormente sendo definidos\n",
    "labels = [\"Feminino\", \"Masculino\"]\n",
    "sizes = [545, 455]\n",
    "colors = ['lightcoral', 'lightskyblue']\n",
    "explode = (0.1, 0)  # explode 1st slice\n",
    "\n",
    "# Propriedades das fatias\n",
    "wp = { 'linewidth' : 1, 'edgecolor' : \"green\" }\n",
    "\n",
    "# Creating plot\n",
    "fig, ax = plt.subplots(figsize =(10, 7))\n",
    "wedges, texts, autotexts = ax.pie(sizes, \n",
    "                                  autopct ='%1.1f%%' ,\n",
    "                                  explode = explode, \n",
    "                                  labels = labels,\n",
    "                                  shadow = True,\n",
    "                                  colors = colors,\n",
    "                                  startangle = 90,\n",
    "                                  wedgeprops = wp,\n",
    "                                  textprops = dict(color =\"black\"))\n",
    "ax.legend(wedges, labels,\n",
    "          title =\"Gênero\",\n",
    "          loc =\"center left\",\n",
    "          bbox_to_anchor =(1, 0, 0.5, 1))\n",
    "ax.set_title('Distribuição dos Gêneros')\n",
    "plt.axis('equal')\n",
    "plt.show()\n"
   ]
  },
  {
   "cell_type": "code",
   "execution_count": 43,
   "id": "looking-export",
   "metadata": {},
   "outputs": [
    {
     "data": {
      "text/plain": [
       "Int64Index([  0,   1,   2,   3,   4,   5,   6,   7,   8,   9,\n",
       "            ...\n",
       "            445, 446, 447, 448, 449, 450, 451, 452, 453, 454],\n",
       "           dtype='int64', length=455)"
      ]
     },
     "execution_count": 43,
     "metadata": {},
     "output_type": "execute_result"
    }
   ],
   "source": [
    "#Pegando os índices o qual a coluna sexo esteja classificado como Masculino para poder excluir\n",
    "\n",
    "indexNamesWoman = data[(data['sexo'] == 'Masculino')].index\n",
    "indexNamesWoman"
   ]
  },
  {
   "cell_type": "code",
   "execution_count": 44,
   "id": "maritime-massachusetts",
   "metadata": {},
   "outputs": [
    {
     "data": {
      "text/html": [
       "<div>\n",
       "<style scoped>\n",
       "    .dataframe tbody tr th:only-of-type {\n",
       "        vertical-align: middle;\n",
       "    }\n",
       "\n",
       "    .dataframe tbody tr th {\n",
       "        vertical-align: top;\n",
       "    }\n",
       "\n",
       "    .dataframe thead th {\n",
       "        text-align: right;\n",
       "    }\n",
       "</style>\n",
       "<table border=\"1\" class=\"dataframe\">\n",
       "  <thead>\n",
       "    <tr style=\"text-align: right;\">\n",
       "      <th></th>\n",
       "      <th>sbjnum</th>\n",
       "      <th>sexo</th>\n",
       "      <th>idade</th>\n",
       "      <th>rendaf</th>\n",
       "      <th>esc</th>\n",
       "      <th>aval_gov</th>\n",
       "      <th>voto1</th>\n",
       "    </tr>\n",
       "  </thead>\n",
       "  <tbody>\n",
       "    <tr>\n",
       "      <th>455</th>\n",
       "      <td>136038515</td>\n",
       "      <td>Feminino</td>\n",
       "      <td>64</td>\n",
       "      <td>De R$ 3.136,00 a R$ 5.225,00 (+ de 3SM até 5 SM)</td>\n",
       "      <td>Ensino superior completo</td>\n",
       "      <td>Ruim</td>\n",
       "      <td>NS/NR</td>\n",
       "    </tr>\n",
       "    <tr>\n",
       "      <th>456</th>\n",
       "      <td>136040271</td>\n",
       "      <td>Feminino</td>\n",
       "      <td>58</td>\n",
       "      <td>De R$ 3.136,00 a R$ 5.225,00 (+ de 3SM até 5 SM)</td>\n",
       "      <td>Ensino médio completo</td>\n",
       "      <td>Péssima</td>\n",
       "      <td>Candidato 5</td>\n",
       "    </tr>\n",
       "    <tr>\n",
       "      <th>457</th>\n",
       "      <td>136041110</td>\n",
       "      <td>Feminino</td>\n",
       "      <td>75</td>\n",
       "      <td>Até R$ 1.045,00 (até 1 SM)</td>\n",
       "      <td>Ensino fundamental incompleto</td>\n",
       "      <td>Regular positiva</td>\n",
       "      <td>NS/NR</td>\n",
       "    </tr>\n",
       "    <tr>\n",
       "      <th>458</th>\n",
       "      <td>136041112</td>\n",
       "      <td>Feminino</td>\n",
       "      <td>32</td>\n",
       "      <td>Até R$ 1.045,00 (até 1 SM)</td>\n",
       "      <td>Ensino superior completo</td>\n",
       "      <td>Boa</td>\n",
       "      <td>Ninguém/Branco/Nulo</td>\n",
       "    </tr>\n",
       "    <tr>\n",
       "      <th>459</th>\n",
       "      <td>136041113</td>\n",
       "      <td>Feminino</td>\n",
       "      <td>55</td>\n",
       "      <td>De R$ 2.091,00 a R$ 3.135,00 (+ de 2SM até 3 SM)</td>\n",
       "      <td>Ensino médio completo</td>\n",
       "      <td>Boa</td>\n",
       "      <td>Candidato 2</td>\n",
       "    </tr>\n",
       "    <tr>\n",
       "      <th>...</th>\n",
       "      <td>...</td>\n",
       "      <td>...</td>\n",
       "      <td>...</td>\n",
       "      <td>...</td>\n",
       "      <td>...</td>\n",
       "      <td>...</td>\n",
       "      <td>...</td>\n",
       "    </tr>\n",
       "    <tr>\n",
       "      <th>995</th>\n",
       "      <td>136140712</td>\n",
       "      <td>Feminino</td>\n",
       "      <td>20</td>\n",
       "      <td>De R$ 5.226,00 a R$ 10.450,00 (+ de 5SM até 10...</td>\n",
       "      <td>Ensino médio completo</td>\n",
       "      <td>Boa</td>\n",
       "      <td>Candidato 2</td>\n",
       "    </tr>\n",
       "    <tr>\n",
       "      <th>996</th>\n",
       "      <td>136140811</td>\n",
       "      <td>Feminino</td>\n",
       "      <td>18</td>\n",
       "      <td>De R$ 2.091,00 a R$ 3.135,00 (+ de 2SM até 3 SM)</td>\n",
       "      <td>Ensino médio incompleto</td>\n",
       "      <td>Ótima</td>\n",
       "      <td>Candidato 14</td>\n",
       "    </tr>\n",
       "    <tr>\n",
       "      <th>997</th>\n",
       "      <td>136140955</td>\n",
       "      <td>Feminino</td>\n",
       "      <td>22</td>\n",
       "      <td>De R$ 2.091,00 a R$ 3.135,00 (+ de 2SM até 3 SM)</td>\n",
       "      <td>Ensino médio completo</td>\n",
       "      <td>Regular positiva</td>\n",
       "      <td>Ninguém/Branco/Nulo</td>\n",
       "    </tr>\n",
       "    <tr>\n",
       "      <th>998</th>\n",
       "      <td>136141043</td>\n",
       "      <td>Feminino</td>\n",
       "      <td>45</td>\n",
       "      <td>De R$ 2.091,00 a R$ 3.135,00 (+ de 2SM até 3 SM)</td>\n",
       "      <td>Ensino superior incompleto</td>\n",
       "      <td>Ótima</td>\n",
       "      <td>Candidato 2</td>\n",
       "    </tr>\n",
       "    <tr>\n",
       "      <th>999</th>\n",
       "      <td>136141106</td>\n",
       "      <td>Feminino</td>\n",
       "      <td>18</td>\n",
       "      <td>De R$ 2.091,00 a R$ 3.135,00 (+ de 2SM até 3 SM)</td>\n",
       "      <td>Ensino médio completo</td>\n",
       "      <td>Regular negativa</td>\n",
       "      <td>NS/NR</td>\n",
       "    </tr>\n",
       "  </tbody>\n",
       "</table>\n",
       "<p>545 rows × 7 columns</p>\n",
       "</div>"
      ],
      "text/plain": [
       "        sbjnum      sexo  idade  \\\n",
       "455  136038515  Feminino     64   \n",
       "456  136040271  Feminino     58   \n",
       "457  136041110  Feminino     75   \n",
       "458  136041112  Feminino     32   \n",
       "459  136041113  Feminino     55   \n",
       "..         ...       ...    ...   \n",
       "995  136140712  Feminino     20   \n",
       "996  136140811  Feminino     18   \n",
       "997  136140955  Feminino     22   \n",
       "998  136141043  Feminino     45   \n",
       "999  136141106  Feminino     18   \n",
       "\n",
       "                                                rendaf  \\\n",
       "455   De R$ 3.136,00 a R$ 5.225,00 (+ de 3SM até 5 SM)   \n",
       "456   De R$ 3.136,00 a R$ 5.225,00 (+ de 3SM até 5 SM)   \n",
       "457                         Até R$ 1.045,00 (até 1 SM)   \n",
       "458                         Até R$ 1.045,00 (até 1 SM)   \n",
       "459   De R$ 2.091,00 a R$ 3.135,00 (+ de 2SM até 3 SM)   \n",
       "..                                                 ...   \n",
       "995  De R$ 5.226,00 a R$ 10.450,00 (+ de 5SM até 10...   \n",
       "996   De R$ 2.091,00 a R$ 3.135,00 (+ de 2SM até 3 SM)   \n",
       "997   De R$ 2.091,00 a R$ 3.135,00 (+ de 2SM até 3 SM)   \n",
       "998   De R$ 2.091,00 a R$ 3.135,00 (+ de 2SM até 3 SM)   \n",
       "999   De R$ 2.091,00 a R$ 3.135,00 (+ de 2SM até 3 SM)   \n",
       "\n",
       "                               esc          aval_gov                voto1  \n",
       "455       Ensino superior completo              Ruim                NS/NR  \n",
       "456          Ensino médio completo           Péssima          Candidato 5  \n",
       "457  Ensino fundamental incompleto  Regular positiva                NS/NR  \n",
       "458       Ensino superior completo               Boa  Ninguém/Branco/Nulo  \n",
       "459          Ensino médio completo               Boa          Candidato 2  \n",
       "..                             ...               ...                  ...  \n",
       "995          Ensino médio completo               Boa          Candidato 2  \n",
       "996        Ensino médio incompleto             Ótima         Candidato 14  \n",
       "997          Ensino médio completo  Regular positiva  Ninguém/Branco/Nulo  \n",
       "998     Ensino superior incompleto             Ótima          Candidato 2  \n",
       "999          Ensino médio completo  Regular negativa                NS/NR  \n",
       "\n",
       "[545 rows x 7 columns]"
      ]
     },
     "execution_count": 44,
     "metadata": {},
     "output_type": "execute_result"
    }
   ],
   "source": [
    "#exclusão\n",
    "\n",
    "data2 = data.drop(indexNamesWoman, axis=0)\n",
    "data2"
   ]
  },
  {
   "cell_type": "code",
   "execution_count": 46,
   "id": "asian-strand",
   "metadata": {},
   "outputs": [
    {
     "data": {
      "text/plain": [
       "Feminino    545\n",
       "Name: sexo, dtype: int64"
      ]
     },
     "execution_count": 46,
     "metadata": {},
     "output_type": "execute_result"
    }
   ],
   "source": [
    "#Sobrou APENAS os dados com mulheres nessa variável\n",
    "\n",
    "data2['sexo'].value_counts()"
   ]
  },
  {
   "cell_type": "code",
   "execution_count": 51,
   "id": "mysterious-sport",
   "metadata": {},
   "outputs": [
    {
     "data": {
      "text/plain": [
       "Candidato 2            295\n",
       "NS/NR                   83\n",
       "Ninguém/Branco/Nulo     72\n",
       "Candidato 5             14\n",
       "Candidato 8             14\n",
       "Candidato 10            14\n",
       "Candidato 1             11\n",
       "Candidato 3              9\n",
       "Candidato 6              7\n",
       "Candidato 9              7\n",
       "Candidato 14             6\n",
       "Candidato 4              4\n",
       "Candidato 12             3\n",
       "Candidato 7              3\n",
       "Candidato 13             2\n",
       "Candidato 11             1\n",
       "Name: voto1, dtype: int64"
      ]
     },
     "execution_count": 51,
     "metadata": {},
     "output_type": "execute_result"
    }
   ],
   "source": [
    "#Como já foi feito a separação e dentro da variável data2 só existem registros de MULHERES, então é possível só fazer um plot normal\n",
    "#dos dados de data2 de acordo com a coluna de 'voto1'.\n",
    "\n",
    "data2['voto1'].value_counts()"
   ]
  },
  {
   "cell_type": "code",
   "execution_count": 8,
   "id": "recovered-difference",
   "metadata": {},
   "outputs": [
    {
     "data": {
      "text/plain": [
       "False    989\n",
       "True      11\n",
       "dtype: int64"
      ]
     },
     "execution_count": 8,
     "metadata": {},
     "output_type": "execute_result"
    }
   ],
   "source": [
    "#Apenas 11 das mulheres que responderam votaram no candidato 1\n",
    "\n",
    "((data['sexo'] == 'Feminino') & (data['voto1'] == 'Candidato 1')).value_counts()"
   ]
  },
  {
   "cell_type": "code",
   "execution_count": 9,
   "id": "funny-plumbing",
   "metadata": {},
   "outputs": [
    {
     "data": {
      "text/plain": [
       "False    705\n",
       "True     295\n",
       "dtype: int64"
      ]
     },
     "execution_count": 9,
     "metadata": {},
     "output_type": "execute_result"
    }
   ],
   "source": [
    "#Apenas 295 das mulheres que responderam votaram no candidato 2\n",
    "#Mais de 54% das mulheres votaram no candidato 2\n",
    "\n",
    "((data['sexo'] == 'Feminino') & (data['voto1'] == 'Candidato 2')).value_counts()"
   ]
  },
  {
   "cell_type": "code",
   "execution_count": null,
   "id": "removed-messaging",
   "metadata": {},
   "outputs": [],
   "source": [
    "#Gráfico 2"
   ]
  },
  {
   "cell_type": "code",
   "execution_count": 105,
   "id": "understood-miniature",
   "metadata": {},
   "outputs": [
    {
     "data": {
      "image/png": "[encoded data removed]",
      "text/plain": [
       "<Figure size 432x288 with 1 Axes>"
      ]
     },
     "metadata": {},
     "output_type": "display_data"
    }
   ],
   "source": [
    "#tema dark do seaborn\n",
    "indexNamesW = data2[(data2['voto1'] == 'NS/NR') | (data2['voto1'] == 'Ninguém/Branco/Nulo')].index\n",
    "\n",
    "#exclusão\n",
    "\n",
    "data2 = data2.drop(indexNamesW, axis=0)\n",
    "sns.set(style=\"darkgrid\")\n",
    "\n",
    "\n",
    "plt.margins(0, 0.1)\n",
    "sns.histplot(data=data2, x=\"voto1\", bins=14)\n",
    "plt.xticks(rotation=90) #Rotacionando os labels para não ficar um em cima do outro\n",
    "plt.show()"
   ]
  },
  {
   "cell_type": "markdown",
   "id": "sunrise-fabric",
   "metadata": {},
   "source": [
    "# Questão 3 - O candidato que lidera as intenções de voto é o candidato de situação ou oposição ao governo ?\n",
    "\n",
    "\n",
    "\n",
    "### Resposta:\n",
    "#### Considerando apenas as 523 pessoas que tem intenção de votar no Candidato 2 (é ele quem lidera), é perceptível que a avaliação que elas fizeram ao governo é extremamente positiva, visto que mais de 86% deles disseram que é boa/ótima. Dessa forma, se eles avaliaram bem o governo e a intenção deles é realizar o voto no Candidato 2, então é muito provável que o mesmo seja o candidato de situação!"
   ]
  },
  {
   "cell_type": "code",
   "execution_count": 10,
   "id": "different-think",
   "metadata": {},
   "outputs": [
    {
     "data": {
      "text/plain": [
       "Boa                 443\n",
       "Ótima               181\n",
       "Regular positiva    175\n",
       "Regular negativa     74\n",
       "Péssima              64\n",
       "Ruim                 49\n",
       "NS/NR                14\n",
       "Name: aval_gov, dtype: int64"
      ]
     },
     "execution_count": 10,
     "metadata": {},
     "output_type": "execute_result"
    }
   ],
   "source": [
    "#Avaliação GERAL ao governo\n",
    "\n",
    "data['aval_gov'].value_counts()"
   ]
  },
  {
   "cell_type": "code",
   "execution_count": 12,
   "id": "impaired-publicity",
   "metadata": {},
   "outputs": [
    {
     "data": {
      "text/plain": [
       "Boa                 300\n",
       "Ótima               154\n",
       "Regular positiva     59\n",
       "Regular negativa      7\n",
       "Péssima               1\n",
       "Ruim                  1\n",
       "NS/NR                 1\n",
       "Name: aval_gov, dtype: int64"
      ]
     },
     "execution_count": 12,
     "metadata": {},
     "output_type": "execute_result"
    }
   ],
   "source": [
    "#Avaliação ao governo APENAS daqueles que votaram no candidato 2\n",
    "#Boa, ótima e Regular Posivita formam quase a totalidade, portanto, feedback muito positivo.\n",
    "\n",
    "data[data['voto1'] == 'Candidato 2']['aval_gov'].value_counts()"
   ]
  },
  {
   "cell_type": "code",
   "execution_count": 116,
   "id": "through-binding",
   "metadata": {},
   "outputs": [
    {
     "data": {
      "image/png": "[encoded data removed]",
      "text/plain": [
       "<Figure size 720x504 with 1 Axes>"
      ]
     },
     "metadata": {},
     "output_type": "display_data"
    }
   ],
   "source": [
    "#Separar os que votaram no Candidato 2\n",
    "\n",
    "#Gráfico de Pizza com distribuição do Sexo\n",
    "\n",
    "# Dados obtidos anteriormente sendo definidos\n",
    "labels = ['Boa', 'Ótima', 'Regular Positiva', 'Avaliações Negativas']\n",
    "sizes = [300,154,59, 9]\n",
    "colors = ['lightcoral', 'lightskyblue', \"orange\", \"cyan\"]\n",
    "explode = (0.1, 0.1,0,0)  # explode 1st slice\n",
    "\n",
    "# Propriedades das fatias\n",
    "wp = { 'linewidth' : 1, 'edgecolor' : \"green\" }\n",
    "\n",
    "# Creating plot\n",
    "fig, ax = plt.subplots(figsize =(10, 7))\n",
    "wedges, texts, autotexts = ax.pie(sizes, \n",
    "                                  autopct ='%1.1f%%' ,\n",
    "                                  explode = explode, \n",
    "                                  labels = labels,\n",
    "                                  shadow = True,\n",
    "                                  colors = colors,\n",
    "                                  startangle = 90,\n",
    "                                  wedgeprops = wp,\n",
    "                                  textprops = dict(color =\"black\"))\n",
    "ax.legend(wedges, labels,\n",
    "          title =\"Avaliação\",\n",
    "          loc =\"center left\",\n",
    "          bbox_to_anchor =(1, 0, 0.5, 1))\n",
    "ax.set_title('Avaliação Governamental dos que votaram no Candidato 2')\n",
    "plt.axis('equal')\n",
    "plt.show()"
   ]
  },
  {
   "cell_type": "code",
   "execution_count": null,
   "id": "expressed-joshua",
   "metadata": {},
   "outputs": [],
   "source": []
  }
 ],
 "metadata": {
  "kernelspec": {
   "display_name": "Python 3",
   "language": "python",
   "name": "python3"
  },
  "language_info": {
   "codemirror_mode": {
    "name": "ipython",
    "version": 3
   },
   "file_extension": ".py",
   "mimetype": "text/x-python",
   "name": "python",
   "nbconvert_exporter": "python",
   "pygments_lexer": "ipython3",
   "version": "3.7.10"
  }
 },
 "nbformat": 4,
 "nbformat_minor": 5
}
