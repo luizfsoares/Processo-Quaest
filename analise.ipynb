{
 "cells": [
  {
   "cell_type": "code",
   "execution_count": 106,
   "id": "silent-amsterdam",
   "metadata": {},
   "outputs": [],
   "source": [
    "#Importação de bibliotecas utilizadas\n",
    "\n",
    "import pandas as pd\n",
    "import matplotlib.pyplot as plt\n",
    "import seaborn as sns"
   ]
  },
  {
   "cell_type": "code",
   "execution_count": 3,
   "id": "announced-effects",
   "metadata": {},
   "outputs": [
    {
     "data": {
      "text/html": [
       "<div>\n",
       "<style scoped>\n",
       "    .dataframe tbody tr th:only-of-type {\n",
       "        vertical-align: middle;\n",
       "    }\n",
       "\n",
       "    .dataframe tbody tr th {\n",
       "        vertical-align: top;\n",
       "    }\n",
       "\n",
       "    .dataframe thead th {\n",
       "        text-align: right;\n",
       "    }\n",
       "</style>\n",
       "<table border=\"1\" class=\"dataframe\">\n",
       "  <thead>\n",
       "    <tr style=\"text-align: right;\">\n",
       "      <th></th>\n",
       "      <th>sbjnum</th>\n",
       "      <th>sexo</th>\n",
       "      <th>idade</th>\n",
       "      <th>rendaf</th>\n",
       "      <th>esc</th>\n",
       "      <th>aval_gov</th>\n",
       "      <th>voto1</th>\n",
       "    </tr>\n",
       "  </thead>\n",
       "  <tbody>\n",
       "    <tr>\n",
       "      <th>0</th>\n",
       "      <td>136037235</td>\n",
       "      <td>Masculino</td>\n",
       "      <td>57</td>\n",
       "      <td>De R$ 2.091,00 a R$ 3.135,00 (+ de 2SM até 3 SM)</td>\n",
       "      <td>Ensino médio completo</td>\n",
       "      <td>Regular positiva</td>\n",
       "      <td>Candidato 2</td>\n",
       "    </tr>\n",
       "    <tr>\n",
       "      <th>1</th>\n",
       "      <td>136037575</td>\n",
       "      <td>Masculino</td>\n",
       "      <td>32</td>\n",
       "      <td>De R$ 2.091,00 a R$ 3.135,00 (+ de 2SM até 3 SM)</td>\n",
       "      <td>Ensino médio completo</td>\n",
       "      <td>Boa</td>\n",
       "      <td>Ninguém/Branco/Nulo</td>\n",
       "    </tr>\n",
       "    <tr>\n",
       "      <th>2</th>\n",
       "      <td>136038074</td>\n",
       "      <td>Masculino</td>\n",
       "      <td>70</td>\n",
       "      <td>De R$ 5.226,00 a R$ 10.450,00 (+ de 5SM até 10...</td>\n",
       "      <td>Ensino médio completo</td>\n",
       "      <td>Boa</td>\n",
       "      <td>Candidato 2</td>\n",
       "    </tr>\n",
       "    <tr>\n",
       "      <th>3</th>\n",
       "      <td>136041069</td>\n",
       "      <td>Masculino</td>\n",
       "      <td>50</td>\n",
       "      <td>De R$ 2.091,00 a R$ 3.135,00 (+ de 2SM até 3 SM)</td>\n",
       "      <td>Ensino fundamental incompleto</td>\n",
       "      <td>Ótima</td>\n",
       "      <td>Candidato 2</td>\n",
       "    </tr>\n",
       "    <tr>\n",
       "      <th>4</th>\n",
       "      <td>136041107</td>\n",
       "      <td>Masculino</td>\n",
       "      <td>24</td>\n",
       "      <td>De R$ 3.136,00 a R$ 5.225,00 (+ de 3SM até 5 SM)</td>\n",
       "      <td>Ensino superior incompleto</td>\n",
       "      <td>Boa</td>\n",
       "      <td>Candidato 2</td>\n",
       "    </tr>\n",
       "    <tr>\n",
       "      <th>...</th>\n",
       "      <td>...</td>\n",
       "      <td>...</td>\n",
       "      <td>...</td>\n",
       "      <td>...</td>\n",
       "      <td>...</td>\n",
       "      <td>...</td>\n",
       "      <td>...</td>\n",
       "    </tr>\n",
       "    <tr>\n",
       "      <th>995</th>\n",
       "      <td>136140712</td>\n",
       "      <td>Feminino</td>\n",
       "      <td>20</td>\n",
       "      <td>De R$ 5.226,00 a R$ 10.450,00 (+ de 5SM até 10...</td>\n",
       "      <td>Ensino médio completo</td>\n",
       "      <td>Boa</td>\n",
       "      <td>Candidato 2</td>\n",
       "    </tr>\n",
       "    <tr>\n",
       "      <th>996</th>\n",
       "      <td>136140811</td>\n",
       "      <td>Feminino</td>\n",
       "      <td>18</td>\n",
       "      <td>De R$ 2.091,00 a R$ 3.135,00 (+ de 2SM até 3 SM)</td>\n",
       "      <td>Ensino médio incompleto</td>\n",
       "      <td>Ótima</td>\n",
       "      <td>Candidato 14</td>\n",
       "    </tr>\n",
       "    <tr>\n",
       "      <th>997</th>\n",
       "      <td>136140955</td>\n",
       "      <td>Feminino</td>\n",
       "      <td>22</td>\n",
       "      <td>De R$ 2.091,00 a R$ 3.135,00 (+ de 2SM até 3 SM)</td>\n",
       "      <td>Ensino médio completo</td>\n",
       "      <td>Regular positiva</td>\n",
       "      <td>Ninguém/Branco/Nulo</td>\n",
       "    </tr>\n",
       "    <tr>\n",
       "      <th>998</th>\n",
       "      <td>136141043</td>\n",
       "      <td>Feminino</td>\n",
       "      <td>45</td>\n",
       "      <td>De R$ 2.091,00 a R$ 3.135,00 (+ de 2SM até 3 SM)</td>\n",
       "      <td>Ensino superior incompleto</td>\n",
       "      <td>Ótima</td>\n",
       "      <td>Candidato 2</td>\n",
       "    </tr>\n",
       "    <tr>\n",
       "      <th>999</th>\n",
       "      <td>136141106</td>\n",
       "      <td>Feminino</td>\n",
       "      <td>18</td>\n",
       "      <td>De R$ 2.091,00 a R$ 3.135,00 (+ de 2SM até 3 SM)</td>\n",
       "      <td>Ensino médio completo</td>\n",
       "      <td>Regular negativa</td>\n",
       "      <td>NS/NR</td>\n",
       "    </tr>\n",
       "  </tbody>\n",
       "</table>\n",
       "<p>1000 rows × 7 columns</p>\n",
       "</div>"
      ],
      "text/plain": [
       "        sbjnum       sexo  idade  \\\n",
       "0    136037235  Masculino     57   \n",
       "1    136037575  Masculino     32   \n",
       "2    136038074  Masculino     70   \n",
       "3    136041069  Masculino     50   \n",
       "4    136041107  Masculino     24   \n",
       "..         ...        ...    ...   \n",
       "995  136140712   Feminino     20   \n",
       "996  136140811   Feminino     18   \n",
       "997  136140955   Feminino     22   \n",
       "998  136141043   Feminino     45   \n",
       "999  136141106   Feminino     18   \n",
       "\n",
       "                                                rendaf  \\\n",
       "0     De R$ 2.091,00 a R$ 3.135,00 (+ de 2SM até 3 SM)   \n",
       "1     De R$ 2.091,00 a R$ 3.135,00 (+ de 2SM até 3 SM)   \n",
       "2    De R$ 5.226,00 a R$ 10.450,00 (+ de 5SM até 10...   \n",
       "3     De R$ 2.091,00 a R$ 3.135,00 (+ de 2SM até 3 SM)   \n",
       "4     De R$ 3.136,00 a R$ 5.225,00 (+ de 3SM até 5 SM)   \n",
       "..                                                 ...   \n",
       "995  De R$ 5.226,00 a R$ 10.450,00 (+ de 5SM até 10...   \n",
       "996   De R$ 2.091,00 a R$ 3.135,00 (+ de 2SM até 3 SM)   \n",
       "997   De R$ 2.091,00 a R$ 3.135,00 (+ de 2SM até 3 SM)   \n",
       "998   De R$ 2.091,00 a R$ 3.135,00 (+ de 2SM até 3 SM)   \n",
       "999   De R$ 2.091,00 a R$ 3.135,00 (+ de 2SM até 3 SM)   \n",
       "\n",
       "                               esc          aval_gov                voto1  \n",
       "0            Ensino médio completo  Regular positiva          Candidato 2  \n",
       "1            Ensino médio completo               Boa  Ninguém/Branco/Nulo  \n",
       "2            Ensino médio completo               Boa          Candidato 2  \n",
       "3    Ensino fundamental incompleto             Ótima          Candidato 2  \n",
       "4       Ensino superior incompleto               Boa          Candidato 2  \n",
       "..                             ...               ...                  ...  \n",
       "995          Ensino médio completo               Boa          Candidato 2  \n",
       "996        Ensino médio incompleto             Ótima         Candidato 14  \n",
       "997          Ensino médio completo  Regular positiva  Ninguém/Branco/Nulo  \n",
       "998     Ensino superior incompleto             Ótima          Candidato 2  \n",
       "999          Ensino médio completo  Regular negativa                NS/NR  \n",
       "\n",
       "[1000 rows x 7 columns]"
      ]
     },
     "execution_count": 3,
     "metadata": {},
     "output_type": "execute_result"
    }
   ],
   "source": [
    "#Abertura da base de dados com a extensão .xlsx\n",
    "\n",
    "data = pd.read_excel('data/bd_surveyquaest.xlsx')\n",
    "data"
   ]
  },
  {
   "cell_type": "code",
   "execution_count": 124,
   "id": "loved-platinum",
   "metadata": {},
   "outputs": [],
   "source": [
    "#descrição das colunas da base de dados\n",
    "\n",
    "\n",
    "#sbjnum: id do respondente\n",
    "#sexo: sexo do respondente\n",
    "#idade: idade (numérica) do respondente\n",
    "#rendaf: renda familiar do respondente\n",
    "#esc: escolaridade do respondente\n",
    "#aval_gov: avaliação do governo\n",
    "#voto1: intenção de voto do respondente."
   ]
  },
  {
   "cell_type": "markdown",
   "id": "angry-founder",
   "metadata": {},
   "source": [
    "# Primeira Questão - Qual o % de intenção de voto para cada candidato?\n",
    "\n",
    "### Resposta: \n",
    "\n",
    "##### Utilizando o data['voto1'].value_counts() é possível ver os valores únicos que este atributo pode assumir e suas respectivas quantidades. É possível ver a existência de 14 candidatos e também os que votam branco/nulo. \n",
    "##### OBS: Não será considerado como intenção de voto os que não sabem/ não responderam. Por isso, a quantidade total de registros será 860 e não 1000, pois temos 140 respostas nessa classificação\n",
    "##### Candidato 1 = 42/ 860 = 0,04883% = 4.883%\n",
    "##### Candidato 2 = 523/ 860 = 0,6081% = 60.81%\n",
    "##### Candidato 3 = 16/ 860 = 0,01860% = 1.86%\n",
    "##### Candidato 4 = 12/ 860 = 0,01395% = 1.395%\n",
    "##### Candidato 5 = 25/ 860 = 0,02906% = 2.906%\n",
    "##### Candidato 6 = 10/ 860 = 0,01163% =  1.163%\n",
    "##### Candidato 7 = 7/ 860 = 0,00814 = 0.814%\n",
    "##### Candidato 8 = 26/ 860 = 0,03023 = 3.023%\n",
    "##### Candidato 9 = 19/ 860 = 0,0221% = 2.21%\n",
    "##### Candidato 10 = 20/ 860 = 0,02325% = 2.325%\n",
    "##### Candidato 11 = 3/ 860 = 0,0035% = 0.35%\n",
    "##### Candidato 12 = 6/ 860 = 0,0070% = 0.7%\n",
    "##### Candidato 13 = 3/ 860 = 0,0035% = 0.35%\n",
    "##### Candidato 14 = 6/ 860 = 0,0070% = 0.7%"
   ]
  },
  {
   "cell_type": "code",
   "execution_count": 125,
   "id": "breathing-round",
   "metadata": {},
   "outputs": [
    {
     "data": {
      "text/plain": [
       "Candidato 2            523\n",
       "Ninguém/Branco/Nulo    142\n",
       "NS/NR                  140\n",
       "Candidato 1             42\n",
       "Candidato 8             26\n",
       "Candidato 5             25\n",
       "Candidato 10            20\n",
       "Candidato 9             19\n",
       "Candidato 3             16\n",
       "Candidato 4             12\n",
       "Candidato 6             10\n",
       "Candidato 7              7\n",
       "Candidato 12             6\n",
       "Candidato 14             6\n",
       "Candidato 13             3\n",
       "Candidato 11             3\n",
       "Name: voto1, dtype: int64"
      ]
     },
     "execution_count": 125,
     "metadata": {},
     "output_type": "execute_result"
    }
   ],
   "source": [
    "#A coluna correspondente a intenção de voto é data['voto1']\n",
    "#Praticamente mais de 60% dos eleitores possuem a intenção de votar no Candidato 2.\n",
    "#71.8% das pessoas que responderam o survey possuem intenção de voto em algum dos candidatos\n",
    "\n",
    "\n",
    "data['voto1'].value_counts()"
   ]
  },
  {
   "cell_type": "code",
   "execution_count": 126,
   "id": "threaded-thomson",
   "metadata": {},
   "outputs": [],
   "source": [
    "#Pegando os índices que não correspondem a intenção de voto em nenhum dos candidatos para poder excluir e sobrar\n",
    "#apenas as intenções em candidatos e assim criar um gráfico entre eles\n",
    "\n",
    "indexNames = data[(data['voto1'] == 'NS/NR') | (data['voto1'] == 'Ninguém/Branco/Nulo')].index\n",
    "\n",
    "#exclusão\n",
    "\n",
    "data1 = data.drop(indexNames, axis=0)"
   ]
  },
  {
   "cell_type": "markdown",
   "id": "sixth-terminology",
   "metadata": {},
   "source": [
    "#### Neste próximo gráfico, com dimensão em porcentagem, fica extremamente a diferença de votos entre o Candidato 2 e os demais"
   ]
  },
  {
   "cell_type": "code",
   "execution_count": 127,
   "id": "intellectual-saudi",
   "metadata": {},
   "outputs": [
    {
     "data": {
      "image/png": "[encoded data removed]",
      "text/plain": [
       "<Figure size 864x576 with 1 Axes>"
      ]
     },
     "metadata": {},
     "output_type": "display_data"
    }
   ],
   "source": [
    "sns.set(style=\"darkgrid\")\n",
    "fig, ax = plt.subplots(figsize =(12, 8))\n",
    "g = sns.barplot(x=[\"Candidato 1\", \"Candidato 2\", \"Candidato 3\", \"Candidato 4\", \"Candidato 5\", \n",
    "                   \"Candidato 6\", \"Candidato 7\", \"Candidato 8\", \"Candidato 9\", \"Candidato 10\", \n",
    "                   \"Candidato 11\", \"Candidato 12\",\"Candidato 13\",\"Candidato 14\"],\n",
    "                y=[(42/860), (523/860), (16/860), (12/860), (25/860), \n",
    "                   (10/860), (7/860), (26/860), (19/860), (20/860),\n",
    "                   (3/860), (6/860), (3/860), (6/860)])\n",
    "\n",
    "g.set_xticklabels(labels=[\"Cand 1\", \"Cand 2\", \"Cand 3\", \"Cand 4\", \"Cand 5\", \n",
    "                          \"Cand 6\", \"Cand 7\", \"Cand 8\", \"Cand 9\", \"Cand 10\", \n",
    "                          \"Cand 11\", \"Cand 12\",\"Cand 13\",\"Cand 14\"], rotation=45)\n",
    "ax.set_yticks((0.01, 0.05, 0.1,0.15,0.2,0.25,0.3,0.35,0.4,0.45,0.5))\n",
    "ax.set_title(\"Distribuição da % de Intenção de Voto\")\n",
    "# Show the plot\n",
    "plt.show()"
   ]
  },
  {
   "cell_type": "markdown",
   "id": "adopted-architect",
   "metadata": {},
   "source": [
    "# Questão 2 - Qual o candidato com maior % de intenção de voto entre as MULHERES?\n",
    "\n",
    "### Resposta:\n",
    "\n",
    "##### O Candidato 2 possui a maior porcentagem de intenção de votos entre as mulheres, o que corresponde a mais de 63% da intenção dos votos delas\n",
    "\n",
    "##### OBS: Assim como na questão anterior, os classificados como NS/NR não foi levado em consideração na totalidade das intenções."
   ]
  },
  {
   "cell_type": "code",
   "execution_count": 141,
   "id": "expected-movie",
   "metadata": {},
   "outputs": [
    {
     "data": {
      "text/plain": [
       "Feminino     545\n",
       "Masculino    455\n",
       "Name: sexo, dtype: int64"
      ]
     },
     "execution_count": 141,
     "metadata": {},
     "output_type": "execute_result"
    }
   ],
   "source": [
    "#Valores únicos e sua contagem. Sabendo esses valores, é possível criar um gráfico de pizza para visualizar melhor.\n",
    "#Porém, entre essas 545 mulheres, há aquelas que não responderam\n",
    "\n",
    "data['sexo'].value_counts()"
   ]
  },
  {
   "cell_type": "markdown",
   "id": "inappropriate-still",
   "metadata": {},
   "source": [
    "### Gráfico 1: Distribuição de Gêneros"
   ]
  },
  {
   "cell_type": "code",
   "execution_count": 142,
   "id": "bacterial-gravity",
   "metadata": {},
   "outputs": [
    {
     "data": {
      "image/png": "[encoded data removed]",
      "text/plain": [
       "<Figure size 720x504 with 1 Axes>"
      ]
     },
     "metadata": {},
     "output_type": "display_data"
    }
   ],
   "source": [
    "#Gráfico de Pizza com distribuição do Sexo\n",
    "\n",
    "# Dados obtidos anteriormente sendo definidos\n",
    "labels = [\"Feminino\", \"Masculino\"]\n",
    "sizes = [545, 455]\n",
    "colors = ['lightcoral', 'lightskyblue']\n",
    "explode = (0.1, 0)  # explode 1st slice\n",
    "\n",
    "# Propriedades das fatias\n",
    "wp = { 'linewidth' : 1, 'edgecolor' : \"green\" }\n",
    "\n",
    "# Creating plot\n",
    "fig, ax = plt.subplots(figsize =(10, 7))\n",
    "wedges, texts, autotexts = ax.pie(sizes, \n",
    "                                  autopct ='%1.1f%%' ,\n",
    "                                  explode = explode, \n",
    "                                  labels = labels,\n",
    "                                  shadow = True,\n",
    "                                  colors = colors,\n",
    "                                  startangle = 90,\n",
    "                                  wedgeprops = wp,\n",
    "                                  textprops = dict(color =\"black\"))\n",
    "ax.legend(wedges, labels,\n",
    "          title =\"Gênero\",\n",
    "          loc =\"center left\",\n",
    "          bbox_to_anchor =(1, 0, 0.5, 1))\n",
    "ax.set_title('Distribuição dos Gêneros')\n",
    "plt.axis('equal')\n",
    "plt.show()\n"
   ]
  },
  {
   "cell_type": "code",
   "execution_count": 143,
   "id": "looking-export",
   "metadata": {},
   "outputs": [
    {
     "data": {
      "text/plain": [
       "Int64Index([  0,   1,   2,   3,   4,   5,   6,   7,   8,   9,\n",
       "            ...\n",
       "            955, 958, 963, 975, 980, 986, 988, 990, 993, 999],\n",
       "           dtype='int64', length=538)"
      ]
     },
     "execution_count": 143,
     "metadata": {},
     "output_type": "execute_result"
    }
   ],
   "source": [
    "#Pegando os índices o qual a coluna sexo esteja classificado como Masculino ou que Não tenha respondido a intenção de voto para que se possa excluir\n",
    "\n",
    "\n",
    "indexNamesWoman = data[(data['sexo'] == 'Masculino') | (data['voto1'] == 'NS/NR')].index\n",
    "indexNamesWoman"
   ]
  },
  {
   "cell_type": "code",
   "execution_count": 144,
   "id": "downtown-samuel",
   "metadata": {},
   "outputs": [
    {
     "data": {
      "text/html": [
       "<div>\n",
       "<style scoped>\n",
       "    .dataframe tbody tr th:only-of-type {\n",
       "        vertical-align: middle;\n",
       "    }\n",
       "\n",
       "    .dataframe tbody tr th {\n",
       "        vertical-align: top;\n",
       "    }\n",
       "\n",
       "    .dataframe thead th {\n",
       "        text-align: right;\n",
       "    }\n",
       "</style>\n",
       "<table border=\"1\" class=\"dataframe\">\n",
       "  <thead>\n",
       "    <tr style=\"text-align: right;\">\n",
       "      <th></th>\n",
       "      <th>sbjnum</th>\n",
       "      <th>sexo</th>\n",
       "      <th>idade</th>\n",
       "      <th>rendaf</th>\n",
       "      <th>esc</th>\n",
       "      <th>aval_gov</th>\n",
       "      <th>voto1</th>\n",
       "    </tr>\n",
       "  </thead>\n",
       "  <tbody>\n",
       "    <tr>\n",
       "      <th>456</th>\n",
       "      <td>136040271</td>\n",
       "      <td>Feminino</td>\n",
       "      <td>58</td>\n",
       "      <td>De R$ 3.136,00 a R$ 5.225,00 (+ de 3SM até 5 SM)</td>\n",
       "      <td>Ensino médio completo</td>\n",
       "      <td>Péssima</td>\n",
       "      <td>Candidato 5</td>\n",
       "    </tr>\n",
       "    <tr>\n",
       "      <th>458</th>\n",
       "      <td>136041112</td>\n",
       "      <td>Feminino</td>\n",
       "      <td>32</td>\n",
       "      <td>Até R$ 1.045,00 (até 1 SM)</td>\n",
       "      <td>Ensino superior completo</td>\n",
       "      <td>Boa</td>\n",
       "      <td>Ninguém/Branco/Nulo</td>\n",
       "    </tr>\n",
       "    <tr>\n",
       "      <th>459</th>\n",
       "      <td>136041113</td>\n",
       "      <td>Feminino</td>\n",
       "      <td>55</td>\n",
       "      <td>De R$ 2.091,00 a R$ 3.135,00 (+ de 2SM até 3 SM)</td>\n",
       "      <td>Ensino médio completo</td>\n",
       "      <td>Boa</td>\n",
       "      <td>Candidato 2</td>\n",
       "    </tr>\n",
       "    <tr>\n",
       "      <th>460</th>\n",
       "      <td>136041114</td>\n",
       "      <td>Feminino</td>\n",
       "      <td>60</td>\n",
       "      <td>De R$ 5.226,00 a R$ 10.450,00 (+ de 5SM até 10...</td>\n",
       "      <td>Ensino médio completo</td>\n",
       "      <td>Boa</td>\n",
       "      <td>Candidato 2</td>\n",
       "    </tr>\n",
       "    <tr>\n",
       "      <th>461</th>\n",
       "      <td>136041115</td>\n",
       "      <td>Feminino</td>\n",
       "      <td>45</td>\n",
       "      <td>De R$ 2.091,00 a R$ 3.135,00 (+ de 2SM até 3 SM)</td>\n",
       "      <td>Ensino superior completo</td>\n",
       "      <td>Ótima</td>\n",
       "      <td>Candidato 2</td>\n",
       "    </tr>\n",
       "    <tr>\n",
       "      <th>...</th>\n",
       "      <td>...</td>\n",
       "      <td>...</td>\n",
       "      <td>...</td>\n",
       "      <td>...</td>\n",
       "      <td>...</td>\n",
       "      <td>...</td>\n",
       "      <td>...</td>\n",
       "    </tr>\n",
       "    <tr>\n",
       "      <th>994</th>\n",
       "      <td>136140539</td>\n",
       "      <td>Feminino</td>\n",
       "      <td>19</td>\n",
       "      <td>De R$ 5.226,00 a R$ 10.450,00 (+ de 5SM até 10...</td>\n",
       "      <td>Ensino superior incompleto</td>\n",
       "      <td>Boa</td>\n",
       "      <td>Candidato 2</td>\n",
       "    </tr>\n",
       "    <tr>\n",
       "      <th>995</th>\n",
       "      <td>136140712</td>\n",
       "      <td>Feminino</td>\n",
       "      <td>20</td>\n",
       "      <td>De R$ 5.226,00 a R$ 10.450,00 (+ de 5SM até 10...</td>\n",
       "      <td>Ensino médio completo</td>\n",
       "      <td>Boa</td>\n",
       "      <td>Candidato 2</td>\n",
       "    </tr>\n",
       "    <tr>\n",
       "      <th>996</th>\n",
       "      <td>136140811</td>\n",
       "      <td>Feminino</td>\n",
       "      <td>18</td>\n",
       "      <td>De R$ 2.091,00 a R$ 3.135,00 (+ de 2SM até 3 SM)</td>\n",
       "      <td>Ensino médio incompleto</td>\n",
       "      <td>Ótima</td>\n",
       "      <td>Candidato 14</td>\n",
       "    </tr>\n",
       "    <tr>\n",
       "      <th>997</th>\n",
       "      <td>136140955</td>\n",
       "      <td>Feminino</td>\n",
       "      <td>22</td>\n",
       "      <td>De R$ 2.091,00 a R$ 3.135,00 (+ de 2SM até 3 SM)</td>\n",
       "      <td>Ensino médio completo</td>\n",
       "      <td>Regular positiva</td>\n",
       "      <td>Ninguém/Branco/Nulo</td>\n",
       "    </tr>\n",
       "    <tr>\n",
       "      <th>998</th>\n",
       "      <td>136141043</td>\n",
       "      <td>Feminino</td>\n",
       "      <td>45</td>\n",
       "      <td>De R$ 2.091,00 a R$ 3.135,00 (+ de 2SM até 3 SM)</td>\n",
       "      <td>Ensino superior incompleto</td>\n",
       "      <td>Ótima</td>\n",
       "      <td>Candidato 2</td>\n",
       "    </tr>\n",
       "  </tbody>\n",
       "</table>\n",
       "<p>462 rows × 7 columns</p>\n",
       "</div>"
      ],
      "text/plain": [
       "        sbjnum      sexo  idade  \\\n",
       "456  136040271  Feminino     58   \n",
       "458  136041112  Feminino     32   \n",
       "459  136041113  Feminino     55   \n",
       "460  136041114  Feminino     60   \n",
       "461  136041115  Feminino     45   \n",
       "..         ...       ...    ...   \n",
       "994  136140539  Feminino     19   \n",
       "995  136140712  Feminino     20   \n",
       "996  136140811  Feminino     18   \n",
       "997  136140955  Feminino     22   \n",
       "998  136141043  Feminino     45   \n",
       "\n",
       "                                                rendaf  \\\n",
       "456   De R$ 3.136,00 a R$ 5.225,00 (+ de 3SM até 5 SM)   \n",
       "458                         Até R$ 1.045,00 (até 1 SM)   \n",
       "459   De R$ 2.091,00 a R$ 3.135,00 (+ de 2SM até 3 SM)   \n",
       "460  De R$ 5.226,00 a R$ 10.450,00 (+ de 5SM até 10...   \n",
       "461   De R$ 2.091,00 a R$ 3.135,00 (+ de 2SM até 3 SM)   \n",
       "..                                                 ...   \n",
       "994  De R$ 5.226,00 a R$ 10.450,00 (+ de 5SM até 10...   \n",
       "995  De R$ 5.226,00 a R$ 10.450,00 (+ de 5SM até 10...   \n",
       "996   De R$ 2.091,00 a R$ 3.135,00 (+ de 2SM até 3 SM)   \n",
       "997   De R$ 2.091,00 a R$ 3.135,00 (+ de 2SM até 3 SM)   \n",
       "998   De R$ 2.091,00 a R$ 3.135,00 (+ de 2SM até 3 SM)   \n",
       "\n",
       "                            esc          aval_gov                voto1  \n",
       "456       Ensino médio completo           Péssima          Candidato 5  \n",
       "458    Ensino superior completo               Boa  Ninguém/Branco/Nulo  \n",
       "459       Ensino médio completo               Boa          Candidato 2  \n",
       "460       Ensino médio completo               Boa          Candidato 2  \n",
       "461    Ensino superior completo             Ótima          Candidato 2  \n",
       "..                          ...               ...                  ...  \n",
       "994  Ensino superior incompleto               Boa          Candidato 2  \n",
       "995       Ensino médio completo               Boa          Candidato 2  \n",
       "996     Ensino médio incompleto             Ótima         Candidato 14  \n",
       "997       Ensino médio completo  Regular positiva  Ninguém/Branco/Nulo  \n",
       "998  Ensino superior incompleto             Ótima          Candidato 2  \n",
       "\n",
       "[462 rows x 7 columns]"
      ]
     },
     "execution_count": 144,
     "metadata": {},
     "output_type": "execute_result"
    }
   ],
   "source": [
    "#exclusão\n",
    "\n",
    "data2 = data.drop(indexNamesWoman, axis=0)\n",
    "data2"
   ]
  },
  {
   "cell_type": "code",
   "execution_count": 145,
   "id": "cordless-forest",
   "metadata": {},
   "outputs": [
    {
     "data": {
      "text/plain": [
       "Feminino    462\n",
       "Name: sexo, dtype: int64"
      ]
     },
     "execution_count": 145,
     "metadata": {},
     "output_type": "execute_result"
    }
   ],
   "source": [
    "#Sobrou APENAS os dados com mulheres nessa variável\n",
    "#As MULHERES que RESPONDERAM as intenções de votos somatizam 462\n",
    "\n",
    "data2['sexo'].value_counts()"
   ]
  },
  {
   "cell_type": "code",
   "execution_count": 146,
   "id": "induced-restaurant",
   "metadata": {},
   "outputs": [
    {
     "data": {
      "text/plain": [
       "Candidato 2            295\n",
       "Ninguém/Branco/Nulo     72\n",
       "Candidato 5             14\n",
       "Candidato 8             14\n",
       "Candidato 10            14\n",
       "Candidato 1             11\n",
       "Candidato 3              9\n",
       "Candidato 6              7\n",
       "Candidato 9              7\n",
       "Candidato 14             6\n",
       "Candidato 4              4\n",
       "Candidato 12             3\n",
       "Candidato 7              3\n",
       "Candidato 13             2\n",
       "Candidato 11             1\n",
       "Name: voto1, dtype: int64"
      ]
     },
     "execution_count": 146,
     "metadata": {},
     "output_type": "execute_result"
    }
   ],
   "source": [
    "#Como já foi feito a separação e dentro da variável data2 só existem registros de MULHERES, então é possível só fazer um plot normal\n",
    "#dos dados de data2 de acordo com a coluna de 'voto1'.\n",
    "\n",
    "data2['voto1'].value_counts()"
   ]
  },
  {
   "cell_type": "code",
   "execution_count": 147,
   "id": "cooperative-physiology",
   "metadata": {},
   "outputs": [
    {
     "data": {
      "image/png": "[encoded data removed]",
      "text/plain": [
       "<Figure size 720x504 with 1 Axes>"
      ]
     },
     "metadata": {},
     "output_type": "display_data"
    }
   ],
   "source": [
    "\n",
    "#Caputando os índices dos registros que Não responderam/não sabem ou que tem intenção de voto igual a Ninguém/Branco/Nulo\n",
    "indexNamesW = data2[(data2['voto1'] == 'NS/NR') | (data2['voto1'] == 'Ninguém/Branco/Nulo')].index\n",
    "\n",
    "#exclusão dos registros com esses índices.\n",
    "data2 = data2.drop(indexNamesW, axis=0)\n",
    "sns.set(style=\"darkgrid\") #tema dark do seaborn\n",
    "\n",
    "\n",
    "#plotando um gráfico de barras\n",
    "fig, ax = plt.subplots(figsize =(10, 7))\n",
    "sns.histplot(data=data2, x=\"voto1\", bins=14)\n",
    "plt.xticks(rotation=90) #Rotacionando os labels para não ficar um em cima do outro\n",
    "ax.set_title(\"Distribuição das Intenções de Votos entre as MULHERES\")\n",
    "plt.show()"
   ]
  },
  {
   "cell_type": "code",
   "execution_count": 148,
   "id": "standard-newman",
   "metadata": {},
   "outputs": [
    {
     "data": {
      "text/plain": [
       "0.6385281385281385"
      ]
     },
     "execution_count": 148,
     "metadata": {},
     "output_type": "execute_result"
    }
   ],
   "source": [
    "#Cálculo da Porcentagem da intenção de voto feminino no candidato 2\n",
    "#Aproximadamente 63.85%\n",
    "#Lembrando que as MULHERES que não responderam, não entraram na quantidade TOTAL\n",
    "\n",
    "percent = 295/462 #intenção de voto no candidato 2 por numero total de mulheres\n",
    "percent"
   ]
  },
  {
   "cell_type": "markdown",
   "id": "sunrise-fabric",
   "metadata": {},
   "source": [
    "# Questão 3 - O candidato que lidera as intenções de voto é o candidato de situação ou oposição ao governo ?\n",
    "\n",
    "\n",
    "\n",
    "### Resposta:\n",
    "#### Considerando apenas as 523 pessoas que tem intenção de votar no Candidato 2 (é ele quem lidera), é perceptível que a avaliação que elas fizeram ao governo é extremamente positiva, visto que mais de 86% deles disseram que é boa/ótima. Dessa forma, se eles avaliaram bem o governo e a intenção deles é realizar o voto no Candidato 2, então é muito provável que o mesmo seja o candidato de situação!"
   ]
  },
  {
   "cell_type": "code",
   "execution_count": 10,
   "id": "different-think",
   "metadata": {},
   "outputs": [
    {
     "data": {
      "text/plain": [
       "Boa                 443\n",
       "Ótima               181\n",
       "Regular positiva    175\n",
       "Regular negativa     74\n",
       "Péssima              64\n",
       "Ruim                 49\n",
       "NS/NR                14\n",
       "Name: aval_gov, dtype: int64"
      ]
     },
     "execution_count": 10,
     "metadata": {},
     "output_type": "execute_result"
    }
   ],
   "source": [
    "#Avaliação GERAL ao governo\n",
    "\n",
    "data['aval_gov'].value_counts()"
   ]
  },
  {
   "cell_type": "code",
   "execution_count": 12,
   "id": "impaired-publicity",
   "metadata": {},
   "outputs": [
    {
     "data": {
      "text/plain": [
       "Boa                 300\n",
       "Ótima               154\n",
       "Regular positiva     59\n",
       "Regular negativa      7\n",
       "Péssima               1\n",
       "Ruim                  1\n",
       "NS/NR                 1\n",
       "Name: aval_gov, dtype: int64"
      ]
     },
     "execution_count": 12,
     "metadata": {},
     "output_type": "execute_result"
    }
   ],
   "source": [
    "#Avaliação ao governo APENAS daqueles que votaram no candidato 2\n",
    "#Boa, ótima e Regular Posivita formam quase a totalidade, portanto, feedback muito positivo.\n",
    "\n",
    "data[data['voto1'] == 'Candidato 2']['aval_gov'].value_counts()"
   ]
  },
  {
   "cell_type": "code",
   "execution_count": 116,
   "id": "affecting-armenia",
   "metadata": {},
   "outputs": [
    {
     "data": {
      "image/png": "[encoded data removed]",
      "text/plain": [
       "<Figure size 720x504 with 1 Axes>"
      ]
     },
     "metadata": {},
     "output_type": "display_data"
    }
   ],
   "source": [
    "#Separar os que votaram no Candidato 2\n",
    "\n",
    "#Gráfico de Pizza com distribuição do Sexo\n",
    "\n",
    "# Dados obtidos anteriormente sendo definidos\n",
    "labels = ['Boa', 'Ótima', 'Regular Positiva', 'Avaliações Negativas']\n",
    "sizes = [300,154,59, 9]\n",
    "colors = ['lightcoral', 'lightskyblue', \"orange\", \"cyan\"]\n",
    "explode = (0.1, 0.1,0,0)  # explode 1st slice\n",
    "\n",
    "# Propriedades das fatias\n",
    "wp = { 'linewidth' : 1, 'edgecolor' : \"green\" }\n",
    "\n",
    "# Creating plot\n",
    "fig, ax = plt.subplots(figsize =(10, 7))\n",
    "wedges, texts, autotexts = ax.pie(sizes, \n",
    "                                  autopct ='%1.1f%%' ,\n",
    "                                  explode = explode, \n",
    "                                  labels = labels,\n",
    "                                  shadow = True,\n",
    "                                  colors = colors,\n",
    "                                  startangle = 90,\n",
    "                                  wedgeprops = wp,\n",
    "                                  textprops = dict(color =\"black\"))\n",
    "ax.legend(wedges, labels,\n",
    "          title =\"Avaliação\",\n",
    "          loc =\"center left\",\n",
    "          bbox_to_anchor =(1, 0, 0.5, 1))\n",
    "ax.set_title('Avaliação Governamental dos que votaram no Candidato 2')\n",
    "plt.axis('equal')\n",
    "plt.show()"
   ]
  },
  {
   "cell_type": "code",
   "execution_count": null,
   "id": "historic-country",
   "metadata": {},
   "outputs": [],
   "source": []
  }
 ],
 "metadata": {
  "kernelspec": {
   "display_name": "Python 3",
   "language": "python",
   "name": "python3"
  },
  "language_info": {
   "codemirror_mode": {
    "name": "ipython",
    "version": 3
   },
   "file_extension": ".py",
   "mimetype": "text/x-python",
   "name": "python",
   "nbconvert_exporter": "python",
   "pygments_lexer": "ipython3",
   "version": "3.7.10"
  }
 },
 "nbformat": 4,
 "nbformat_minor": 5
}
